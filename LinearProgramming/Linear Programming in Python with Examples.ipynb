{
 "cells": [
  {
   "cell_type": "markdown",
   "metadata": {},
   "source": [
    "### Linear Programming in Python\n",
    "+ Nature runs on two important concepts, systems and optimization\n",
    "+ What is Optimization?\n",
    "    - Minimizing Cost and Maximizing Profits or Benefit\n",
    "    - Making the most of something\n",
    "    - Efficiency and effectiveness\n",
    "\n",
    "\n",
    "#### How to know if a problem is linear/identifying linearity?\n",
    "+ Proportionality: how each variable contributes to the objective fxn or constraints must be proportional to the value of the variable\n",
    "+ Additivity:The value of an objective function or constraint function is the sum of the contributions of each variable.( fxn = sum(variables))\n",
    "    \n",
    "\n",
    "+ When to Use Linear Optimization\n",
    "\n",
    "### Why do heuristics often fail?\n",
    "+ Complete enumeration of alternatives is usually impossible. For example, selecting 15\n",
    "variables from 30 candidates has over 155,000 possibilities.\n",
    "+ Sequential decision making will not find correct solutions because of interactions among\n",
    "decisions.\n",
    "+ Capacity limits (for example, the maximum production in plant 2) are very difficult to include\n",
    "in heuristics\n",
    "+ Problem data, especially costs and limits, change frequently. Therefore, the \"same\" problem\n",
    "with different parameters has to be solved often. \n",
    "    \n",
    "+ Linear programming is a form of optimization.\n",
    "+ Linear programming/linear optimization is a method to achieve the best outcome (such as maximum profit or lowest cost) in a mathematical model whose requirements are represented by linear relationships.\n",
    "+ An optimization problem consists of maximizing or minimizing a real function by systematically choosing input values from within an allowed set and computing the value of the function. \n",
    "\n",
    "#### Summary\n",
    "+ Maximize or Minimize objective function subject to some constraints(eq,ineq)\n",
    "+ A region is convex if all points on a straight line connecting any two points within the region are also in the region\n",
    "\n",
    "Types of Optimization Problem\n",
    "\n",
    "![](typesofopt.png)\n",
    "\n",
    "## Usefulness/Application of Linear Programming\n",
    "+ Linear programming is used in a wide range of applications, such as design, manufacturing, personnel planning, investment management, statistics, public health, national public policy, and many more. \n",
    "\n",
    "\n",
    "\n",
    "#### Terms\n",
    "+ Objective Variables\n",
    "+ Decision Variables:they are the variables which will decide my output, what q\n",
    "+ Objective Function:the objective/goal of making decisions, what we want to achieve (maximize/minimize)\n",
    "+ Constraints:the restrictions or limitations on the decision variables. They usually limit the value of the decision variables.They shape how you obtain the objective.\n",
    "+ Non-negativity restriction: For all linear programs, the decision variables should always take non-negative values. Which means the values for decision variables should be greater than or equal to 0.\n",
    "\n",
    "### Pkgs\n",
    "+ pip install pulp\n",
    "+ milp\n",
    "+ scipy\n",
    "\n",
    "#### Steps\n",
    "+ Define Objective Variables and Decision Variables\n",
    "+ Create Objective Functions\n",
    "+ Define Constraints\n",
    "\n"
   ]
  },
  {
   "cell_type": "code",
   "execution_count": 1,
   "metadata": {},
   "outputs": [],
   "source": [
    "# Load Package\n",
    "import pulp"
   ]
  },
  {
   "cell_type": "code",
   "execution_count": 2,
   "metadata": {},
   "outputs": [
    {
     "data": {
      "text/plain": [
       "['Amply',\n",
       " 'AmplyError',\n",
       " 'CHOCO_CMD',\n",
       " 'COIN',\n",
       " 'COINMP_DLL',\n",
       " 'COINMP_DLL_load_dll',\n",
       " 'COIN_CMD',\n",
       " 'CPLEX',\n",
       " 'CPLEX_CMD',\n",
       " 'CPLEX_DLL',\n",
       " 'CPLEX_DLL_load_dll',\n",
       " 'CPLEX_PY',\n",
       " 'DIRNAME',\n",
       " 'EPS',\n",
       " 'FixedElasticSubProblem',\n",
       " 'FractionElasticSubProblem',\n",
       " 'GLPK',\n",
       " 'GLPK_CMD',\n",
       " 'GUROBI',\n",
       " 'GUROBI_CMD',\n",
       " 'GurobiFormulation',\n",
       " 'Iterable',\n",
       " 'LpAffineExpression',\n",
       " 'LpBinary',\n",
       " 'LpCategories',\n",
       " 'LpConstraint',\n",
       " 'LpConstraintEQ',\n",
       " 'LpConstraintGE',\n",
       " 'LpConstraintLE',\n",
       " 'LpConstraintSenses',\n",
       " 'LpConstraintVar',\n",
       " 'LpContinuous',\n",
       " 'LpCplexLPLineSize',\n",
       " 'LpElement',\n",
       " 'LpFractionConstraint',\n",
       " 'LpInteger',\n",
       " 'LpMaximize',\n",
       " 'LpMinimize',\n",
       " 'LpProblem',\n",
       " 'LpSenses',\n",
       " 'LpSolution',\n",
       " 'LpSolutionInfeasible',\n",
       " 'LpSolutionIntegerFeasible',\n",
       " 'LpSolutionNoSolutionFound',\n",
       " 'LpSolutionOptimal',\n",
       " 'LpSolutionUnbounded',\n",
       " 'LpSolver',\n",
       " 'LpSolverDefault',\n",
       " 'LpSolver_CMD',\n",
       " 'LpStatus',\n",
       " 'LpStatusInfeasible',\n",
       " 'LpStatusNotSolved',\n",
       " 'LpStatusOptimal',\n",
       " 'LpStatusToSolution',\n",
       " 'LpStatusUnbounded',\n",
       " 'LpStatusUndefined',\n",
       " 'LpVariable',\n",
       " 'LpVariableDict',\n",
       " 'MIPCL_CMD',\n",
       " 'OrderedDict',\n",
       " 'PULPCFGFILE',\n",
       " 'PULP_CBC_CMD',\n",
       " 'PULP_CHOCO_CMD',\n",
       " 'PYGLPK',\n",
       " 'Parser',\n",
       " 'PulpError',\n",
       " 'PulpSolverError',\n",
       " 'SCIP',\n",
       " 'SCIP_CMD',\n",
       " 'VERSION',\n",
       " 'XPRESS',\n",
       " 'YAPOSIB',\n",
       " '__builtins__',\n",
       " '__cached__',\n",
       " '__doc__',\n",
       " '__file__',\n",
       " '__loader__',\n",
       " '__name__',\n",
       " '__package__',\n",
       " '__path__',\n",
       " '__spec__',\n",
       " '__version__',\n",
       " 'allcombinations',\n",
       " 'allpermutations',\n",
       " 'amply',\n",
       " 'arch',\n",
       " 'cbc_path',\n",
       " 'clock',\n",
       " 'coinMP_path',\n",
       " 'collections',\n",
       " 'combination',\n",
       " 'configSolvers',\n",
       " 'config_filename',\n",
       " 'configparser',\n",
       " 'constants',\n",
       " 'cplex_dll_path',\n",
       " 'ctypes',\n",
       " 'ctypesArrayFill',\n",
       " 'glpk',\n",
       " 'glpk_path',\n",
       " 'gurobi_path',\n",
       " 'gurobipy',\n",
       " 'ilm_cplex_license',\n",
       " 'ilm_cplex_license_signature',\n",
       " 'initialize',\n",
       " 'isNumber',\n",
       " 'is_64bits',\n",
       " 'isiterable',\n",
       " 'itertools',\n",
       " 'log',\n",
       " 'logging',\n",
       " 'lpDot',\n",
       " 'lpSum',\n",
       " 'makeDict',\n",
       " 'maketrans',\n",
       " 'mktemp',\n",
       " 'operating_system',\n",
       " 'os',\n",
       " 'permutation',\n",
       " 'pulp',\n",
       " 'pulp_cbc_path',\n",
       " 'pulp_choco_path',\n",
       " 'read_table',\n",
       " 'scip_path',\n",
       " 'setConfigInformation',\n",
       " 'solvers',\n",
       " 'sparse',\n",
       " 'splitDict',\n",
       " 'string',\n",
       " 'subprocess',\n",
       " 'sys',\n",
       " 'types',\n",
       " 'uuid4',\n",
       " 'value',\n",
       " 'valueOrDefault',\n",
       " 'warnings',\n",
       " 'yaposib']"
      ]
     },
     "execution_count": 2,
     "metadata": {},
     "output_type": "execute_result"
    }
   ],
   "source": [
    "dir(pulp)"
   ]
  },
  {
   "cell_type": "markdown",
   "metadata": {},
   "source": [
    "#### Example\n",
    "+ http://people.brunel.ac.uk/~mastjjb/jeb/or/morelp.html\n",
    "\n",
    "A company makes two products (X and Y) using two machines (A and B). Each unit of X that is produced requires 50 minutes processing time on machine A and 30 minutes processing time on machine B. Each unit of Y that is produced requires 24 minutes processing time on machine A and 33 minutes processing time on machine B.\n",
    "\n",
    "At the start of the current week there are 30 units of X and 90 units of Y in stock. Available processing time on machine A is forecast to be 40 hours and on machine B is forecast to be 35 hours.\n",
    "\n",
    "The demand for X in the current week is forecast to be 75 units and for Y is forecast to be 95 units. Company policy is to maximise the combined sum of the units of X and the units of Y in stock at the end of the week.\n",
    "\n",
    "Formulate the problem of deciding how much of each product to make in the current week as a linear program.\n",
    "Solve this linear program."
   ]
  },
  {
   "cell_type": "markdown",
   "metadata": {},
   "source": [
    "#### Solution\n",
    "x = 50minA and 30minB\n",
    "y = 24minA and 33minB\n",
    "\n",
    "+ Start\n",
    "30X and 90Y\n",
    "+ Limit\n",
    "A<=40hours\n",
    "B<=35hours\n"
   ]
  },
  {
   "cell_type": "markdown",
   "metadata": {},
   "source": [
    "Let\n",
    "\n",
    "x be the number of units of X produced in the current week\n",
    "y be the number of units of Y produced in the current week\n",
    "then the constraints are:\n",
    "\n",
    "50x + 24y <= 40(60) machine A time\n",
    "30x + 33y <= 35(60) machine B time\n",
    "x >= 75 - 30\n",
    "i.e. x >= 45 so production of X >= demand (75) - initial stock (30), which ensures we meet demand\n",
    "y >= 95 - 90\n",
    "i.e. y >= 5 so production of Y >= demand (95) - initial stock (90), which ensures we meet demand\n",
    " (x+30-75) + (y+90-95) = (x+y-50)\n"
   ]
  },
  {
   "cell_type": "code",
   "execution_count": 75,
   "metadata": {},
   "outputs": [],
   "source": [
    "# Define Variables\n",
    "X = pulp.LpVariable('X',lowBound=0)\n",
    "Y = pulp.LpVariable('Y',lowBound=0)"
   ]
  },
  {
   "cell_type": "code",
   "execution_count": 76,
   "metadata": {},
   "outputs": [],
   "source": [
    "# Objective Fxns\n",
    "m = pulp.LpProblem(\"Maximum Profit\",pulp.LpMaximize)"
   ]
  },
  {
   "cell_type": "code",
   "execution_count": 77,
   "metadata": {},
   "outputs": [],
   "source": [
    "m += X+Y-50"
   ]
  },
  {
   "cell_type": "code",
   "execution_count": 78,
   "metadata": {},
   "outputs": [],
   "source": [
    "# Constraints\n",
    "m += 50*X + 24*Y <= 40*60\n",
    "m += 30*X + 33*Y <= 35*60\n",
    "m += X >= 75 - 30\n",
    "m += Y >= 95 - 90"
   ]
  },
  {
   "cell_type": "code",
   "execution_count": 79,
   "metadata": {},
   "outputs": [
    {
     "name": "stdout",
     "output_type": "stream",
     "text": [
      "Maximum_Profit:\n",
      "MAXIMIZE\n",
      "1*X + 1*Y + -50\n",
      "SUBJECT TO\n",
      "_C1: 50 X + 24 Y <= 2400\n",
      "\n",
      "_C2: 30 X + 33 Y <= 2100\n",
      "\n",
      "_C3: X >= 45\n",
      "\n",
      "_C4: Y >= 5\n",
      "\n",
      "VARIABLES\n",
      "X Continuous\n",
      "Y Continuous\n",
      "\n"
     ]
    }
   ],
   "source": [
    "# Check Our Problem\n",
    "print(m)"
   ]
  },
  {
   "cell_type": "code",
   "execution_count": 80,
   "metadata": {},
   "outputs": [
    {
     "data": {
      "text/plain": [
       "'Not Solved'"
      ]
     },
     "execution_count": 80,
     "metadata": {},
     "output_type": "execute_result"
    }
   ],
   "source": [
    "# Get the status\n",
    "pulp.LpStatus[m.status]"
   ]
  },
  {
   "cell_type": "code",
   "execution_count": 81,
   "metadata": {},
   "outputs": [
    {
     "data": {
      "text/plain": [
       "1"
      ]
     },
     "execution_count": 81,
     "metadata": {},
     "output_type": "execute_result"
    }
   ],
   "source": [
    "# Solve \n",
    "m.solve()"
   ]
  },
  {
   "cell_type": "code",
   "execution_count": 82,
   "metadata": {},
   "outputs": [
    {
     "data": {
      "text/plain": [
       "'Optimal'"
      ]
     },
     "execution_count": 82,
     "metadata": {},
     "output_type": "execute_result"
    }
   ],
   "source": [
    "# Get the status\n",
    "pulp.LpStatus[m.status]"
   ]
  },
  {
   "cell_type": "code",
   "execution_count": 83,
   "metadata": {},
   "outputs": [
    {
     "name": "stdout",
     "output_type": "stream",
     "text": [
      "X => 45.0\n",
      "Y => 6.25\n"
     ]
    }
   ],
   "source": [
    "# Find the Optimal Variables/Optimal Solution Points\n",
    "for var in m.variables():\n",
    "    print(var.name,\"=>\",var.varValue)"
   ]
  },
  {
   "cell_type": "code",
   "execution_count": 85,
   "metadata": {},
   "outputs": [
    {
     "name": "stdout",
     "output_type": "stream",
     "text": [
      "45.0\n",
      "6.25\n"
     ]
    }
   ],
   "source": [
    "# Alternatively\n",
    "print(X.varValue)\n",
    "print(Y.varValue)"
   ]
  },
  {
   "cell_type": "code",
   "execution_count": 86,
   "metadata": {},
   "outputs": [
    {
     "data": {
      "text/plain": [
       "1.25"
      ]
     },
     "execution_count": 86,
     "metadata": {},
     "output_type": "execute_result"
    }
   ],
   "source": [
    "# What you get when you plug in the X,Y into our objective function\n",
    "pulp.value(m.objective)"
   ]
  },
  {
   "cell_type": "markdown",
   "metadata": {},
   "source": [
    "![](lp97example.gif)"
   ]
  },
  {
   "cell_type": "markdown",
   "metadata": {},
   "source": [
    "### Example 2\n",
    "A company manufactures two products (A and B) and the profit per unit sold is £3 and £5 respectively. Each product has to be assembled on a particular machine, each unit of product A taking 12 minutes of assembly time and each unit of product B 25 minutes of assembly time. The company estimates that the machine used for assembly has an effective working week of only 30 hours (due to maintenance/breakdown).\n",
    "\n",
    "Technological constraints mean that for every five units of product A produced at least two units of product B must be produced.\n",
    "\n",
    "Formulate the problem of how much of each product to produce as a linear program.\n",
    "Solve this linear program.\n",
    "The company has been offered the chance to hire an extra machine, thereby doubling the effective assembly time available. What is the maximum amount you would be prepared to pay (per week) for the hire of this machine and why?"
   ]
  },
  {
   "cell_type": "markdown",
   "metadata": {},
   "source": [
    "A 3 12min\n",
    "B 5  25min\n",
    "\n",
    "For every 5 A == 2B\n",
    "\n",
    "xA = number of units of A produced\n",
    "\n",
    "xB = number of units of B produced\n",
    "\n",
    "then the constraints are:\n",
    "\n",
    "12xA + 25xB <= 30(60) (assembly time)\n",
    "\n",
    "xB >= 2(xA/5)\n",
    "\n",
    "i.e. xB - 0.4xA >= 0\n",
    "\n",
    "i.e. 5xB >= 2xA (technological)\n",
    "\n",
    "where xA, xB >= 0\n",
    "\n",
    "and the objective is\n",
    "\n",
    "maximise 3xA + 5xB"
   ]
  },
  {
   "cell_type": "code",
   "execution_count": 12,
   "metadata": {},
   "outputs": [],
   "source": [
    "xA = pulp.LpVariable('xA',lowBound=0)\n",
    "xB = pulp.LpVariable('xB',lowBound=0)"
   ]
  },
  {
   "cell_type": "code",
   "execution_count": 14,
   "metadata": {},
   "outputs": [],
   "source": [
    "# Objective Fxn\n",
    "p = pulp.LpProblem(\"Maximise_Products_Produced\",pulp.LpMaximize)\n",
    "p += 3*xA + 5*xB,\"Objective_Function\""
   ]
  },
  {
   "cell_type": "code",
   "execution_count": 15,
   "metadata": {},
   "outputs": [],
   "source": [
    "# Constraints\n",
    "p += 12*xA + 25*xB <= 30*(60)\n",
    "p += xB - 0.4*xA >= 0"
   ]
  },
  {
   "cell_type": "code",
   "execution_count": 16,
   "metadata": {},
   "outputs": [
    {
     "name": "stdout",
     "output_type": "stream",
     "text": [
      "Maximise_Products_Produced:\n",
      "MAXIMIZE\n",
      "3*xA + 5*xB + 0\n",
      "SUBJECT TO\n",
      "_C1: 12 xA + 25 xB <= 1800\n",
      "\n",
      "_C2: - 0.4 xA + xB >= 0\n",
      "\n",
      "VARIABLES\n",
      "xA Continuous\n",
      "xB Continuous\n",
      "\n"
     ]
    }
   ],
   "source": [
    "# Check the problem\n",
    "print(p)"
   ]
  },
  {
   "cell_type": "code",
   "execution_count": 17,
   "metadata": {},
   "outputs": [
    {
     "data": {
      "text/plain": [
       "1"
      ]
     },
     "execution_count": 17,
     "metadata": {},
     "output_type": "execute_result"
    }
   ],
   "source": [
    "p.solve()"
   ]
  },
  {
   "cell_type": "code",
   "execution_count": 18,
   "metadata": {},
   "outputs": [
    {
     "name": "stdout",
     "output_type": "stream",
     "text": [
      "xA => 81.818182\n",
      "xB => 32.727273\n"
     ]
    }
   ],
   "source": [
    "# Find the Optimal Variables/Optimal Solution Points\n",
    "for var in p.variables():\n",
    "    print(var.name,\"=>\",var.varValue)"
   ]
  },
  {
   "cell_type": "code",
   "execution_count": 19,
   "metadata": {},
   "outputs": [
    {
     "data": {
      "text/plain": [
       "409.090911"
      ]
     },
     "execution_count": 19,
     "metadata": {},
     "output_type": "execute_result"
    }
   ],
   "source": [
    "pulp.value(p.objective)"
   ]
  },
  {
   "cell_type": "code",
   "execution_count": null,
   "metadata": {},
   "outputs": [],
   "source": [
    "MaxZ = 5X + 10Y\n",
    "st.\n",
    "1X + 2Y <= 120\n",
    "X + Y >= 60\n",
    "X -2Y >=0"
   ]
  },
  {
   "cell_type": "code",
   "execution_count": 20,
   "metadata": {},
   "outputs": [],
   "source": [
    "mX = pulp.LpVariable(\"mX\",lowBound=0)\n",
    "mY = pulp.LpVariable(\"mY\",lowBound=0)"
   ]
  },
  {
   "cell_type": "code",
   "execution_count": 21,
   "metadata": {},
   "outputs": [],
   "source": [
    "# Objective Fxn\n",
    "maxZ = pulp.LpProblem(\"Maximise_Products_Produced\",pulp.LpMaximize)\n",
    "maxZ += 5*mX + 10*mY,\"Objective_Function\""
   ]
  },
  {
   "cell_type": "code",
   "execution_count": 22,
   "metadata": {},
   "outputs": [],
   "source": [
    "# Constraints\n",
    "maxZ += 1*mX + 2*mY <= 120\n",
    "maxZ += mX + mY >= 60\n",
    "maxZ += mX -2*mY >=0"
   ]
  },
  {
   "cell_type": "code",
   "execution_count": 23,
   "metadata": {},
   "outputs": [
    {
     "name": "stdout",
     "output_type": "stream",
     "text": [
      "Maximise_Products_Produced:\n",
      "MAXIMIZE\n",
      "5*mX + 10*mY + 0\n",
      "SUBJECT TO\n",
      "_C1: mX + 2 mY <= 120\n",
      "\n",
      "_C2: mX + mY >= 60\n",
      "\n",
      "_C3: mX - 2 mY >= 0\n",
      "\n",
      "VARIABLES\n",
      "mX Continuous\n",
      "mY Continuous\n",
      "\n"
     ]
    }
   ],
   "source": [
    "print(maxZ)"
   ]
  },
  {
   "cell_type": "code",
   "execution_count": 24,
   "metadata": {},
   "outputs": [
    {
     "data": {
      "text/plain": [
       "1"
      ]
     },
     "execution_count": 24,
     "metadata": {},
     "output_type": "execute_result"
    }
   ],
   "source": [
    "# Solve\n",
    "maxZ.solve()"
   ]
  },
  {
   "cell_type": "code",
   "execution_count": 25,
   "metadata": {},
   "outputs": [
    {
     "name": "stdout",
     "output_type": "stream",
     "text": [
      "mX => 60.0\n",
      "mY => 30.0\n"
     ]
    }
   ],
   "source": [
    "# Find the Optimal Variables/Optimal Solution Points\n",
    "for var in maxZ.variables():\n",
    "    print(var.name,\"=>\",var.varValue)"
   ]
  },
  {
   "cell_type": "code",
   "execution_count": 26,
   "metadata": {},
   "outputs": [
    {
     "data": {
      "text/plain": [
       "600.0"
      ]
     },
     "execution_count": 26,
     "metadata": {},
     "output_type": "execute_result"
    }
   ],
   "source": [
    "pulp.value(maxZ.objective)"
   ]
  },
  {
   "cell_type": "markdown",
   "metadata": {},
   "source": [
    "### Example \n",
    "minimise\n",
    "\n",
    "4a + 5b + 6c\n",
    "\n",
    "subject to\n",
    "\n",
    "a + b >= 11\n",
    "\n",
    "a - b <= 5\n",
    "\n",
    "c - a - b = 0\n",
    "\n",
    "7a >= 35 - 12b\n",
    "\n",
    "a >= 0 b >= 0 c >= 0"
   ]
  },
  {
   "cell_type": "code",
   "execution_count": 27,
   "metadata": {},
   "outputs": [],
   "source": [
    "a = pulp.LpVariable('a',lowBound=0)\n",
    "b = pulp.LpVariable('b',lowBound=0)\n",
    "c = pulp.LpVariable('c',lowBound=0)\n",
    "min_opt = pulp.LpProblem(\"Minimise\",pulp.LpMinimize)"
   ]
  },
  {
   "cell_type": "code",
   "execution_count": 28,
   "metadata": {},
   "outputs": [],
   "source": [
    "# Objective Fxn\n",
    "min_opt += 4*a + 5*b + 6*c,\"objective function\""
   ]
  },
  {
   "cell_type": "code",
   "execution_count": 29,
   "metadata": {},
   "outputs": [],
   "source": [
    "# Constraints\n",
    "min_opt += a + b >= 11\n",
    "min_opt += a - b <= 5\n",
    "min_opt += c - a - b == 0\n",
    "min_opt += 7*a >= 35 - 12*b"
   ]
  },
  {
   "cell_type": "code",
   "execution_count": 30,
   "metadata": {},
   "outputs": [
    {
     "data": {
      "text/plain": [
       "1"
      ]
     },
     "execution_count": 30,
     "metadata": {},
     "output_type": "execute_result"
    }
   ],
   "source": [
    "# Solve\n",
    "min_opt.solve()"
   ]
  },
  {
   "cell_type": "code",
   "execution_count": 31,
   "metadata": {},
   "outputs": [
    {
     "name": "stdout",
     "output_type": "stream",
     "text": [
      "a => 8.0\n",
      "b => 3.0\n",
      "c => 11.0\n"
     ]
    }
   ],
   "source": [
    "for var in min_opt.variables():\n",
    "    print(var.name,\"=>\",var.varValue)"
   ]
  },
  {
   "cell_type": "code",
   "execution_count": 32,
   "metadata": {},
   "outputs": [
    {
     "data": {
      "text/plain": [
       "113.0"
      ]
     },
     "execution_count": 32,
     "metadata": {},
     "output_type": "execute_result"
    }
   ],
   "source": [
    "pulp.value(min_opt.objective)"
   ]
  },
  {
   "cell_type": "markdown",
   "metadata": {},
   "source": [
    "#### Example \n",
    "Solve the following linear program:\n",
    "\n",
    "maximise 5x1 + 6x2\n",
    "\n",
    "subject to\n",
    "\n",
    "x1 + x2 <= 10\n",
    "\n",
    "x1 - x2 >= 3\n",
    "\n",
    "5x1 + 4x2 <= 35\n",
    "\n",
    "x1 >= 0\n",
    "\n",
    "x2 >= 0"
   ]
  },
  {
   "cell_type": "code",
   "execution_count": 33,
   "metadata": {},
   "outputs": [],
   "source": [
    "x1 = pulp.LpVariable(\"x1\",lowBound=0)\n",
    "x2 = pulp.LpVariable(\"x2\",lowBound=0)\n",
    "max_opt = pulp.LpProblem(\"Maximixe Output\",pulp.LpMaximize)"
   ]
  },
  {
   "cell_type": "code",
   "execution_count": 34,
   "metadata": {},
   "outputs": [],
   "source": [
    "# Objective Fxn\n",
    "max_opt += 5*x1 + 6*x2"
   ]
  },
  {
   "cell_type": "code",
   "execution_count": 35,
   "metadata": {},
   "outputs": [],
   "source": [
    "# Constraints\n",
    "max_opt += x1 + x2 <= 10\n",
    "max_opt += x1 - x2 >= 3\n",
    "max_opt += 5*x1 + 4*x2 <= 35"
   ]
  },
  {
   "cell_type": "code",
   "execution_count": 36,
   "metadata": {},
   "outputs": [
    {
     "data": {
      "text/plain": [
       "1"
      ]
     },
     "execution_count": 36,
     "metadata": {},
     "output_type": "execute_result"
    }
   ],
   "source": [
    "# Solve\n",
    "max_opt.solve()"
   ]
  },
  {
   "cell_type": "code",
   "execution_count": 37,
   "metadata": {},
   "outputs": [
    {
     "name": "stdout",
     "output_type": "stream",
     "text": [
      "x1 => 5.2222222\n",
      "x2 => 2.2222222\n"
     ]
    }
   ],
   "source": [
    "for var in max_opt.variables():\n",
    "    print(var.name,\"=>\",var.varValue)"
   ]
  },
  {
   "cell_type": "code",
   "execution_count": 38,
   "metadata": {},
   "outputs": [
    {
     "data": {
      "text/plain": [
       "39.4444442"
      ]
     },
     "execution_count": 38,
     "metadata": {},
     "output_type": "execute_result"
    }
   ],
   "source": [
    "pulp.value(max_opt.objective)"
   ]
  },
  {
   "cell_type": "markdown",
   "metadata": {},
   "source": [
    "### Example 5\n",
    "A carpenter makes tables and chairs. Each table can be sold for a profit of £30 and each chair for a profit of £10. The carpenter can afford to spend up to 40 hours per week working and takes six hours to make a table and three hours to make a chair. Customer demand requires that he makes at least three times as many chairs as tables. Tables take up four times as much storage space as chairs and there is room for at most four tables each week.\n",
    "\n",
    "Formulate this problem as a linear programming problem and solve it graphically."
   ]
  },
  {
   "cell_type": "code",
   "execution_count": null,
   "metadata": {},
   "outputs": [],
   "source": [
    "t 30 \n",
    "c 10\n",
    "\n",
    "limit 40\n",
    "1t = 6hrs\n",
    "1c = 3hrs\n",
    "\n",
    "demand c >= 3t\n",
    "space t4 = c\n",
    "room 4t each week"
   ]
  },
  {
   "cell_type": "markdown",
   "metadata": {},
   "source": [
    "Solution\n",
    "Variables\n",
    "Let\n",
    "\n",
    "xT = number of tables made per week\n",
    "\n",
    "xC = number of chairs made per week\n",
    "\n",
    "Constraints\n",
    "total work time\n",
    "6xT + 3xC <= 40\n",
    "\n",
    "customer demand\n",
    "xC >= 3xT\n",
    "\n",
    "storage space\n",
    "(xC/4) + xT <= 4\n",
    "\n",
    "all variables >= 0\n",
    "Objective\n",
    "maximise 30xT + 10xC"
   ]
  },
  {
   "cell_type": "code",
   "execution_count": 39,
   "metadata": {},
   "outputs": [],
   "source": [
    "xT = pulp.LpVariable('xT',lowBound=0)\n",
    "xC = pulp.LpVariable('xC',lowBound=0)\n",
    "profit = pulp.LpProblem(\"Maximise profit\",pulp.LpMaximize)"
   ]
  },
  {
   "cell_type": "code",
   "execution_count": 40,
   "metadata": {},
   "outputs": [],
   "source": [
    "# objective fxn\n",
    "profit += 30*xT + 10*xC"
   ]
  },
  {
   "cell_type": "code",
   "execution_count": 41,
   "metadata": {},
   "outputs": [],
   "source": [
    "# constraints\n",
    "profit += 6*xT + 3*xC <= 40\n",
    "profit += xC >= 3*xT\n",
    "profit += (xC)*0.25 + xT <= 4"
   ]
  },
  {
   "cell_type": "code",
   "execution_count": 42,
   "metadata": {},
   "outputs": [
    {
     "data": {
      "text/plain": [
       "1"
      ]
     },
     "execution_count": 42,
     "metadata": {},
     "output_type": "execute_result"
    }
   ],
   "source": [
    "profit.solve()"
   ]
  },
  {
   "cell_type": "code",
   "execution_count": 43,
   "metadata": {},
   "outputs": [
    {
     "name": "stdout",
     "output_type": "stream",
     "text": [
      "xC => 10.666667\n",
      "xT => 1.3333333\n"
     ]
    }
   ],
   "source": [
    "for var in profit.variables():\n",
    "    print(var.name,\"=>\",var.varValue)"
   ]
  },
  {
   "cell_type": "code",
   "execution_count": 44,
   "metadata": {},
   "outputs": [
    {
     "data": {
      "text/plain": [
       "146.666669"
      ]
     },
     "execution_count": 44,
     "metadata": {},
     "output_type": "execute_result"
    }
   ],
   "source": [
    "pulp.value(profit.objective)"
   ]
  },
  {
   "cell_type": "markdown",
   "metadata": {},
   "source": [
    "+ https://www.onlinemathlearning.com/linear-programming-example.html\n",
    "\n",
    "Joanne wants to buy x oranges and y peaches from the store. She must buy at least 5 oranges and the number of oranges must be less than twice the number of peaches. An orange weighs 150 grams and a peach weighs 100 grams. Joanne can carry not more than 3.6 kg of fruits home.\n",
    "\n",
    "a) Write 3 inequalities to represent the information given above.\n",
    "b) Plot the inequalities on the Cartesian grid and show the region that satisfies all the inequalities. Label the region S.\n",
    "c) Oranges cost $0.70 each and peaches cost $0.90 each. Find the maximum that Joanne can spend buying the fruits."
   ]
  },
  {
   "cell_type": "markdown",
   "metadata": {},
   "source": [
    "x oranges 150 0.7\n",
    "y peaches 100 0.9\n",
    "5 oranges\n",
    "x <= 2y\n",
    "\n",
    "limit\n",
    "3.6kg\n",
    "\n",
    "x150 + y100 <= 3.6kg\n",
    "\n",
    "5x <=2y\n",
    "a) at least 5 oranges: x ≥ 5\n",
    "oranges less than twice of peaches: x < 2y\n",
    "not more than 3.6 kg: 150x + 100y ≤ 3600 ⇒ 3x + 2y ≤ 72"
   ]
  },
  {
   "cell_type": "code",
   "execution_count": 45,
   "metadata": {},
   "outputs": [],
   "source": [
    "xO = pulp.LpVariable('xO',lowBound=0)\n",
    "yP = pulp.LpVariable('yP',lowBound=0)"
   ]
  },
  {
   "cell_type": "code",
   "execution_count": 46,
   "metadata": {},
   "outputs": [],
   "source": [
    "# Define Problem\n",
    "max_carry = pulp.LpProblem('Maximise',pulp.LpMaximize)"
   ]
  },
  {
   "cell_type": "code",
   "execution_count": 47,
   "metadata": {},
   "outputs": [],
   "source": [
    "# Objective fxn\n",
    "max_carry += xO*150 + yP*100 <=3600"
   ]
  },
  {
   "cell_type": "code",
   "execution_count": 48,
   "metadata": {},
   "outputs": [],
   "source": [
    "# Constrains\n",
    "max_carry += xO >= 5\n",
    "max_carry += xO <= 2*yP"
   ]
  },
  {
   "cell_type": "code",
   "execution_count": 49,
   "metadata": {},
   "outputs": [
    {
     "data": {
      "text/plain": [
       "1"
      ]
     },
     "execution_count": 49,
     "metadata": {},
     "output_type": "execute_result"
    }
   ],
   "source": [
    "#Solve\n",
    "max_carry.solve()"
   ]
  },
  {
   "cell_type": "code",
   "execution_count": 50,
   "metadata": {},
   "outputs": [
    {
     "name": "stdout",
     "output_type": "stream",
     "text": [
      "__dummy => None\n",
      "xO => 5.0\n",
      "yP => 2.5\n"
     ]
    }
   ],
   "source": [
    "for var in max_carry.variables():\n",
    "    print(var.name,\"=>\",var.varValue)"
   ]
  },
  {
   "cell_type": "code",
   "execution_count": 58,
   "metadata": {},
   "outputs": [],
   "source": [
    "# pulp.value(max_carry.objective)"
   ]
  },
  {
   "cell_type": "markdown",
   "metadata": {},
   "source": [
    "#### Example:\n",
    "Maximize C = x + y given the constraints,\n",
    "\n",
    "\n",
    "y ≥ 0\n",
    "\n",
    "x ≥ 0\n",
    "\n",
    "4x + 2y ≤ 8\n",
    "\n",
    "2x − y ≤ 0"
   ]
  },
  {
   "cell_type": "code",
   "execution_count": 51,
   "metadata": {},
   "outputs": [],
   "source": [
    "x = pulp.LpVariable('x',lowBound=0)\n",
    "y = pulp.LpVariable('y',lowBound=0)\n",
    "max_c = pulp.LpProblem(\"Maximize C\",pulp.LpMaximize)"
   ]
  },
  {
   "cell_type": "code",
   "execution_count": 52,
   "metadata": {},
   "outputs": [],
   "source": [
    "# Objective fxn\n",
    "max_c += x + y"
   ]
  },
  {
   "cell_type": "code",
   "execution_count": 53,
   "metadata": {},
   "outputs": [],
   "source": [
    "# Constrains\n",
    "max_c += 4*x + 2*y <=8\n",
    "max_c += 2*x - 1*y <=0"
   ]
  },
  {
   "cell_type": "code",
   "execution_count": 54,
   "metadata": {},
   "outputs": [
    {
     "data": {
      "text/plain": [
       "1"
      ]
     },
     "execution_count": 54,
     "metadata": {},
     "output_type": "execute_result"
    }
   ],
   "source": [
    "# Solve\n",
    "max_c.solve()"
   ]
  },
  {
   "cell_type": "code",
   "execution_count": 55,
   "metadata": {},
   "outputs": [
    {
     "name": "stdout",
     "output_type": "stream",
     "text": [
      "x => 0.0\n",
      "y => 4.0\n"
     ]
    }
   ],
   "source": [
    "for var in max_c.variables():\n",
    "    print(var.name,\"=>\",var.varValue)"
   ]
  },
  {
   "cell_type": "code",
   "execution_count": 56,
   "metadata": {},
   "outputs": [
    {
     "data": {
      "text/plain": [
       "4.0"
      ]
     },
     "execution_count": 56,
     "metadata": {},
     "output_type": "execute_result"
    }
   ],
   "source": [
    "pulp.value(max_c.objective)"
   ]
  },
  {
   "cell_type": "markdown",
   "metadata": {},
   "source": [
    "#### Example\n",
    "Maximize C = x + y given the constraints,\n",
    "\n",
    "− 3x + 2y ≤ 6\n",
    "\n",
    "3x + y ≤ 3\n",
    "\n",
    "y ≥ 0"
   ]
  },
  {
   "cell_type": "code",
   "execution_count": 57,
   "metadata": {},
   "outputs": [],
   "source": [
    "xx = pulp.LpVariable('xx',lowBound=0)\n",
    "yy = pulp.LpVariable('yy',lowBound=0)\n",
    "max_c2 = pulp.LpProblem('Maximize C',pulp.LpMaximize)"
   ]
  },
  {
   "cell_type": "code",
   "execution_count": 58,
   "metadata": {},
   "outputs": [],
   "source": [
    "# Objective Fxn\n",
    "max_c2 += 4*xx + yy"
   ]
  },
  {
   "cell_type": "code",
   "execution_count": 59,
   "metadata": {},
   "outputs": [],
   "source": [
    "# Constraints\n",
    "max_c2 += -3*xx + 2*yy <= 6\n",
    "max_c2 += 3*xx + yy <= 3"
   ]
  },
  {
   "cell_type": "code",
   "execution_count": 60,
   "metadata": {},
   "outputs": [
    {
     "data": {
      "text/plain": [
       "1"
      ]
     },
     "execution_count": 60,
     "metadata": {},
     "output_type": "execute_result"
    }
   ],
   "source": [
    "max_c2.solve()"
   ]
  },
  {
   "cell_type": "code",
   "execution_count": 61,
   "metadata": {},
   "outputs": [
    {
     "name": "stdout",
     "output_type": "stream",
     "text": [
      "xx => 1.0\n",
      "yy => 0.0\n"
     ]
    }
   ],
   "source": [
    "for var in max_c2.variables():\n",
    "    print(var.name,\"=>\",var.varValue)"
   ]
  },
  {
   "cell_type": "code",
   "execution_count": 62,
   "metadata": {},
   "outputs": [
    {
     "data": {
      "text/plain": [
       "4.0"
      ]
     },
     "execution_count": 62,
     "metadata": {},
     "output_type": "execute_result"
    }
   ],
   "source": [
    "pulp.value(max_c2.objective)"
   ]
  },
  {
   "cell_type": "markdown",
   "metadata": {},
   "source": [
    "Problem:Mbr> Constraints are\n",
    "240 acres of land.\n",
    "Profit $40/acre corn, $30/acre oats.\n",
    "Have 320 hrs available. Corn takes 2 hrs of labor per acre, oats requires 1 hr.\n",
    "How many acres of each should be planted to maximize profits?"
   ]
  },
  {
   "cell_type": "markdown",
   "metadata": {},
   "source": [
    "40c + 30o \n",
    "\n",
    "c + o <= 240\n",
    "\n",
    "Land\n",
    "240\n",
    "\n",
    "Time:320\n",
    "\n",
    "c2 per acre\n",
    "\n",
    "o1 per acre\n",
    "\n",
    "o1 + c2 <=320"
   ]
  },
  {
   "cell_type": "code",
   "execution_count": 63,
   "metadata": {},
   "outputs": [],
   "source": [
    "aC = pulp.LpVariable('aC',lowBound=0)\n",
    "aO = pulp.LpVariable('aO',lowBound=0)"
   ]
  },
  {
   "cell_type": "code",
   "execution_count": 64,
   "metadata": {},
   "outputs": [],
   "source": [
    "max_acre = pulp.LpProblem(\"Maximum Profit\",pulp.LpMaximize)"
   ]
  },
  {
   "cell_type": "code",
   "execution_count": 65,
   "metadata": {},
   "outputs": [],
   "source": [
    "# Objective Fxn\n",
    "max_acre += 40*aC + 30*aO "
   ]
  },
  {
   "cell_type": "code",
   "execution_count": 66,
   "metadata": {},
   "outputs": [],
   "source": [
    "# Constraints\n",
    "max_acre +=2*aC + 1*aO<=320\n",
    "max_acre +=1*aC + 1*aO<=240"
   ]
  },
  {
   "cell_type": "code",
   "execution_count": 67,
   "metadata": {},
   "outputs": [
    {
     "data": {
      "text/plain": [
       "1"
      ]
     },
     "execution_count": 67,
     "metadata": {},
     "output_type": "execute_result"
    }
   ],
   "source": [
    "max_acre.solve()"
   ]
  },
  {
   "cell_type": "code",
   "execution_count": 68,
   "metadata": {},
   "outputs": [
    {
     "name": "stdout",
     "output_type": "stream",
     "text": [
      "aC => 80.0\n",
      "aO => 160.0\n"
     ]
    }
   ],
   "source": [
    "for var in max_acre.variables():\n",
    "    print(var.name,\"=>\",var.varValue)"
   ]
  },
  {
   "cell_type": "code",
   "execution_count": 69,
   "metadata": {},
   "outputs": [
    {
     "data": {
      "text/plain": [
       "8000.0"
      ]
     },
     "execution_count": 69,
     "metadata": {},
     "output_type": "execute_result"
    }
   ],
   "source": [
    "pulp.value(max_acre.objective)"
   ]
  },
  {
   "cell_type": "markdown",
   "metadata": {},
   "source": [
    "https://www.onlinemathlearning.com/linear-programming-example.html\n",
    "\n",
    "Example:\n",
    "\n",
    "A refinery produces both gasoline and fuel oil, and sells gasoline for $1 per gallon and fuel oil for $0.90 per gallon. The refinery can produce at most 600,000 gallons a day, but must produce at least two gallons of fuel oil for every gallon of gasoline. At least 150,000 gallons of fuel oil must be produce each day to meet current demands. How much of each type of fuel should be produced to maximize daily profits?"
   ]
  },
  {
   "cell_type": "code",
   "execution_count": null,
   "metadata": {},
   "outputs": [],
   "source": [
    "g 1per gallon\n",
    "f 0.90 per gallon\n",
    "\n",
    "limit 600000\n",
    "2f <=1g\n",
    "150000f per day\n",
    "c = 1g + 0.90f"
   ]
  },
  {
   "cell_type": "code",
   "execution_count": 121,
   "metadata": {},
   "outputs": [],
   "source": [
    "xG = pulp.LpVariable('xG',lowBound=0)\n",
    "xF = pulp.LpVariable('xF',lowBound=0)"
   ]
  },
  {
   "cell_type": "code",
   "execution_count": 122,
   "metadata": {},
   "outputs": [],
   "source": [
    "max_profit = pulp.LpProblem(\"Maximize Profit\",pulp.LpMaximize)"
   ]
  },
  {
   "cell_type": "code",
   "execution_count": 123,
   "metadata": {},
   "outputs": [],
   "source": [
    "# Objective Fxn\n",
    "max_profit += 1*xG + 0.90*xF"
   ]
  },
  {
   "cell_type": "code",
   "execution_count": 124,
   "metadata": {},
   "outputs": [],
   "source": [
    "# Constraints\n",
    "max_profit += xG + xF <= 600000\n",
    "max_profit += 1*xG == 2*xF\n",
    "max_profit += xF >= 150000"
   ]
  },
  {
   "cell_type": "code",
   "execution_count": 125,
   "metadata": {},
   "outputs": [
    {
     "data": {
      "text/plain": [
       "1"
      ]
     },
     "execution_count": 125,
     "metadata": {},
     "output_type": "execute_result"
    }
   ],
   "source": [
    "# Solve\n",
    "max_profit.solve()"
   ]
  },
  {
   "cell_type": "code",
   "execution_count": 126,
   "metadata": {},
   "outputs": [
    {
     "data": {
      "text/plain": [
       "Maximize_Profit:\n",
       "MAXIMIZE\n",
       "0.9*xF + 1*xG + 0.0\n",
       "SUBJECT TO\n",
       "_C1: xF + xG <= 600000\n",
       "\n",
       "_C2: - 2 xF + xG = 0\n",
       "\n",
       "_C3: xF >= 150000\n",
       "\n",
       "VARIABLES\n",
       "xF Continuous\n",
       "xG Continuous"
      ]
     },
     "execution_count": 126,
     "metadata": {},
     "output_type": "execute_result"
    }
   ],
   "source": [
    "max_profit"
   ]
  },
  {
   "cell_type": "code",
   "execution_count": 127,
   "metadata": {},
   "outputs": [
    {
     "name": "stdout",
     "output_type": "stream",
     "text": [
      "xF => 200000.0\n",
      "xG => 400000.0\n"
     ]
    }
   ],
   "source": [
    "for var in max_profit.variables():\n",
    "    print(var.name,\"=>\",var.varValue)"
   ]
  },
  {
   "cell_type": "code",
   "execution_count": 128,
   "metadata": {},
   "outputs": [
    {
     "data": {
      "text/plain": [
       "580000.0"
      ]
     },
     "execution_count": 128,
     "metadata": {},
     "output_type": "execute_result"
    }
   ],
   "source": [
    "pulp.value(max_profit.objective)"
   ]
  },
  {
   "cell_type": "code",
   "execution_count": 87,
   "metadata": {},
   "outputs": [],
   "source": [
    "# Thaaks For Your Time\n",
    "# Jesus Saves\n",
    "# Jesse E.Agbe(JCharis)"
   ]
  },
  {
   "cell_type": "code",
   "execution_count": null,
   "metadata": {},
   "outputs": [],
   "source": []
  }
 ],
 "metadata": {
  "kernelspec": {
   "display_name": "Python 3",
   "language": "python",
   "name": "python3"
  },
  "language_info": {
   "codemirror_mode": {
    "name": "ipython",
    "version": 3
   },
   "file_extension": ".py",
   "mimetype": "text/x-python",
   "name": "python",
   "nbconvert_exporter": "python",
   "pygments_lexer": "ipython3",
   "version": "3.7.5"
  }
 },
 "nbformat": 4,
 "nbformat_minor": 4
}
